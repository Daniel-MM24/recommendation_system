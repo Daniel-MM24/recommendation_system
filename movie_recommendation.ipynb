{
 "cells": [
  {
   "cell_type": "markdown",
   "metadata": {},
   "source": [
    "## Business and Data Understanding\n",
    "This project focuses on developing a personalized movie recommendation system using the Movielens small dataset, which consists of 100,000 ratings from 610 users on 9,724 movies. The dataset is ideal for recommendation modeling as it captures user-movie interactions (ratings) and movie metadata (genres, titles), enabling both collaborative filtering (CF) and content-based filtering (CBF). The dataset exhibits a sparsity of approximately 1.5%, necessitating efficient matrix factorization techniques to provide meaningful recommendations. Descriptive statistics indicate an average rating of 3.5 with a standard deviation of 1.06, ensuring a balanced distribution of user preferences.\n",
    "\n",
    "## Objective \n",
    "The objective of this project is to build a robust and efficient movie recommendation system that provides personalized recommendations to users based on their past ratings and preferences. By leveraging collaborative filtering and content-based filtering techniques, the system can effectively address the cold start problem and provide accurate recommendations.\n",
    "\n",
    "## Data Preparation\n",
    "The dataset underwent preprocessing to handle missing values and clean genre descriptions. The `pandas` library was used for data manipulation, while `nltk` and `langdetect` assisted in multilingual stopword removal for genre-based content filtering. The `TfidfVectorizer` from `sklearn` transformed genre data into numerical representations, enabling similarity computations for CBF. These steps ensured structured and optimized data for recommendation modeling.\n",
    "\n",
    "## Modeling Approach\n",
    "The core recommendation model is based on `Singular Value Decomposition (SVD)` from the `surprise` library, chosen for its efficiency in handling sparse matrices. Hyperparameter tuning was performed using `GridSearchCV`, optimizing parameters such as `n_factors`, `n_epochs`, `lr_all` and regularization terms. To address the cold start problem, a hybrid approach was developed:\n",
    "\n",
    "- If a user has rated fewer movies than the dynamic median threshold, content-based filtering (CBF) recommends movies based on genre similarity.\n",
    "- Otherwise, collaborative filtering (CF) via SVD generates personalized recommendations based on learned latent factors.\n",
    "\n",
    "## Evaluation and Results\n",
    "The final hybrid model significantly outperformed the standalone CF approach. The results were:\n",
    "\n",
    "- Hybrid Model: RMSE = 0.8324, MAE = 0.6211\n",
    "- Baseline SVD Model: RMSE = 0.8812, MAE = 0.6772\n",
    "The evaluation used cross-validation to ensure robustness. The hybrid approach demonstrated superior performance by balancing personalization (CF) and generalization (CBF), particularly for new users.\n",
    "\n"
   ]
  },
  {
   "cell_type": "markdown",
   "metadata": {},
   "source": [
    "# Data Exploration"
   ]
  },
  {
   "cell_type": "code",
   "execution_count": null,
   "metadata": {},
   "outputs": [],
   "source": [
    "# Import required libraries\n",
    "\n",
    "import pandas as pd\n",
    "import numpy as np\n",
    "import matplotlib.pyplot as plt\n",
    "import seaborn as sns\n",
    "\n",
    "from sklearn.feature_extraction.text import TfidfVectorizer\n",
    "from sklearn.metrics.pairwise import cosine_similarity\n",
    "\n",
    "from surprise import SVD\n",
    "from surprise import Dataset, Reader\n",
    "from surprise.model_selection import cross_validate\n",
    "from surprise.model_selection import GridSearchCV"
   ]
  },
  {
   "cell_type": "code",
   "execution_count": 5,
   "metadata": {},
   "outputs": [
    {
     "name": "stdout",
     "output_type": "stream",
     "text": [
      "Ratings Data: \n",
      "   userId  movieId  rating  timestamp\n",
      "0       1        1     4.0  964982703\n",
      "1       1        3     4.0  964981247\n",
      "2       1        6     4.0  964982224\n",
      "3       1       47     5.0  964983815\n",
      "4       1       50     5.0  964982931\n",
      "\n",
      " Movies Data:\n",
      "   movieId                               title  \\\n",
      "0        1                    Toy Story (1995)   \n",
      "1        2                      Jumanji (1995)   \n",
      "2        3             Grumpier Old Men (1995)   \n",
      "3        4            Waiting to Exhale (1995)   \n",
      "4        5  Father of the Bride Part II (1995)   \n",
      "\n",
      "                                        genres  \n",
      "0  Adventure|Animation|Children|Comedy|Fantasy  \n",
      "1                   Adventure|Children|Fantasy  \n",
      "2                               Comedy|Romance  \n",
      "3                         Comedy|Drama|Romance  \n",
      "4                                       Comedy  \n"
     ]
    }
   ],
   "source": [
    "# Load datasets\n",
    "ratings_df = pd.read_csv('ratings.csv')\n",
    "movies_df = pd.read_csv('movies.csv')\n",
    "\n",
    "# Display first few rows\n",
    "print(\"Ratings Data: \")\n",
    "print(ratings_df.head())\n",
    "\n",
    "print(\"\\n Movies Data:\")\n",
    "print(movies_df.head())\n",
    "\n"
   ]
  },
  {
   "cell_type": "code",
   "execution_count": 6,
   "metadata": {},
   "outputs": [
    {
     "name": "stdout",
     "output_type": "stream",
     "text": [
      "Missing values in ratings\n",
      " userId       0\n",
      "movieId      0\n",
      "rating       0\n",
      "timestamp    0\n",
      "dtype: int64\n",
      "\n",
      "Missing values in movies\n",
      " movieId    0\n",
      "title      0\n",
      "genres     0\n",
      "dtype: int64\n"
     ]
    }
   ],
   "source": [
    "# Check for misssing values\n",
    "print(\"Missing values in ratings\\n\", ratings_df.isnull().sum())\n",
    "print(\"\\nMissing values in movies\\n\", movies_df.isnull().sum())"
   ]
  },
  {
   "cell_type": "code",
   "execution_count": 7,
   "metadata": {},
   "outputs": [
    {
     "name": "stdout",
     "output_type": "stream",
     "text": [
      "Movies summary statistics:\n",
      "              movieId\n",
      "count    9742.000000\n",
      "mean    42200.353623\n",
      "std     52160.494854\n",
      "min         1.000000\n",
      "25%      3248.250000\n",
      "50%      7300.000000\n",
      "75%     76232.000000\n",
      "max    193609.000000\n",
      "\n",
      "Ratings summary statistics:\n",
      "               userId        movieId         rating     timestamp\n",
      "count  100836.000000  100836.000000  100836.000000  1.008360e+05\n",
      "mean      326.127564   19435.295718       3.501557  1.205946e+09\n",
      "std       182.618491   35530.987199       1.042529  2.162610e+08\n",
      "min         1.000000       1.000000       0.500000  8.281246e+08\n",
      "25%       177.000000    1199.000000       3.000000  1.019124e+09\n",
      "50%       325.000000    2991.000000       3.500000  1.186087e+09\n",
      "75%       477.000000    8122.000000       4.000000  1.435994e+09\n",
      "max       610.000000  193609.000000       5.000000  1.537799e+09\n"
     ]
    }
   ],
   "source": [
    "# Summary statistics for movies_df and ratings_df\n",
    "movies_summary = movies_df.describe()\n",
    "ratings_summary = ratings_df.describe()\n",
    "\n",
    "print(\"Movies summary statistics:\\n\", movies_summary)\n",
    "print(\"\\nRatings summary statistics:\\n\", ratings_summary)"
   ]
  },
  {
   "cell_type": "code",
   "execution_count": 8,
   "metadata": {},
   "outputs": [
    {
     "name": "stdout",
     "output_type": "stream",
     "text": [
      "Number of unique users: 610\n",
      "Number of unique movies: 9724\n",
      "Number of unique movie genres: 951\n"
     ]
    }
   ],
   "source": [
    "# Data exploration\n",
    "# Unique users and movies\n",
    "num_users = ratings_df['userId'].nunique()\n",
    "num_movies = ratings_df['movieId'].nunique()\n",
    "num_genres = movies_df['genres'].nunique()\n",
    "\n",
    "print(f\"Number of unique users: {num_users}\")\n",
    "print(f\"Number of unique movies: {num_movies}\")\n",
    "print(f\"Number of unique movie genres: {num_genres}\")\n",
    "\n",
    "\n"
   ]
  },
  {
   "cell_type": "markdown",
   "metadata": {},
   "source": [
    "## Visualizations"
   ]
  },
  {
   "cell_type": "code",
   "execution_count": 33,
   "metadata": {},
   "outputs": [
    {
     "data": {
      "image/png": "[encoded data removed]",
      "text/plain": [
       "<Figure size 576x360 with 1 Axes>"
      ]
     },
     "metadata": {
      "needs_background": "light"
     },
     "output_type": "display_data"
    }
   ],
   "source": [
    "# Rating distribution\n",
    "plt.figure(figsize=(8, 5))\n",
    "sns.histplot(ratings_df['rating'], bins=10, kde=True, color='teal')\n",
    "plt.title(\"Distribution of User Ratings\", fontweight='bold')\n",
    "plt.xlabel(\"Rating\")\n",
    "plt.ylabel(\"Count\")\n",
    "plt.show()"
   ]
  },
  {
   "cell_type": "markdown",
   "metadata": {},
   "source": [
    "### Observations\n",
    "\n",
    "The graph shows a bimodal distribution of user ratings with peaks around 3 and 4, indicating that these are the most common ratings. The distribution is slightly positively skewed, suggesting a general tendency towards higher ratings. The low frequency of ratings 1 and 2 indicates that very low ratings are less common."
   ]
  },
  {
   "cell_type": "code",
   "execution_count": 34,
   "metadata": {},
   "outputs": [
    {
     "data": {
      "image/png": "[encoded data removed]",
      "text/plain": [
       "<Figure size 720x432 with 1 Axes>"
      ]
     },
     "metadata": {
      "needs_background": "light"
     },
     "output_type": "display_data"
    }
   ],
   "source": [
    "# Top 10 genres by frequency\n",
    "genre_counts = movies_df['genres'].str.split('|', expand=True).stack().value_counts().head(10)\n",
    "plt.figure(figsize=(10, 6))\n",
    "genre_counts.plot(kind='barh', color='purple')\n",
    "plt.title(\"Top 10 Movie Genres by Frequency\", fontweight='bold')\n",
    "plt.xlabel(\"Count\")\n",
    "plt.ylabel(\"Genre\")\n",
    "plt.gca().invert_yaxis()\n",
    "plt.show()"
   ]
  },
  {
   "cell_type": "markdown",
   "metadata": {},
   "source": [
    "### Obervations\n",
    "\n",
    "This chart provides an overview of the relative popularity of the top 10 movie genres based on their frequency within a given dataset.  It highlights the strong preference for Drama and provides a comparative view of other popular genres."
   ]
  },
  {
   "cell_type": "markdown",
   "metadata": {},
   "source": [
    "# Building a Recommendation System"
   ]
  },
  {
   "cell_type": "markdown",
   "metadata": {},
   "source": [
    "## Cross Validation\n",
    "### Training and validating perfomance across folds\n",
    "\n",
    "Using cross validation instead of a single train-test-split provides a more reliable estimate by reducing data variability. K-Fold cross-validation ensures that the model is trained and tested on different subsets of data multiple times, reducing variance and improving generelaization."
   ]
  },
  {
   "cell_type": "code",
   "execution_count": null,
   "metadata": {},
   "outputs": [
    {
     "name": "stdout",
     "output_type": "stream",
     "text": [
      "Evaluating RMSE, MAE of algorithm SVD on 5 split(s).\n",
      "\n",
      "                  Fold 1  Fold 2  Fold 3  Fold 4  Fold 5  Mean    Std     \n",
      "RMSE (testset)    0.8764  0.8673  0.8843  0.8700  0.8722  0.8741  0.0059  \n",
      "MAE (testset)     0.6725  0.6670  0.6786  0.6674  0.6695  0.6710  0.0043  \n",
      "RMSE (trainset)   0.6382  0.6366  0.6345  0.6368  0.6354  0.6363  0.0012  \n",
      "MAE (trainset)    0.4953  0.4943  0.4932  0.4940  0.4934  0.4940  0.0008  \n",
      "Fit time          24.38   25.05   22.88   23.13   22.96   23.68   0.87    \n",
      "Test time         0.84    0.85    0.56    0.56    0.37    0.64    0.18    \n",
      "Average Test RMSE: 0.8740616045102421\n",
      "Mean Training RMSE: 0.6363\n",
      "Mean Validation RMSE: 0.8741\n"
     ]
    }
   ],
   "source": [
    "\n",
    "# Define the read format for the Surprise Library\n",
    "reader = Reader(rating_scale=(0.5, 5.0))\n",
    "\n",
    "# Load the data into Surprises dataset format\n",
    "data = Dataset.load_from_df(ratings_df[['userId', 'movieId', 'rating']], reader)\n",
    "\n",
    "# Define the SVD model\n",
    "svd = SVD()\n",
    "\n",
    "# Perform 5-fold Cross validation\n",
    "cv_results = cross_validate(svd, data, measures=['RMSE', 'MAE'], cv=5, return_train_measures=True, verbose=True)\n",
    "print(f\"Average Test RMSE: {cv_results['test_rmse'].mean()}\")\n",
    "\n",
    "\n",
    "# Print the mean RMSE for training and test sets\n",
    "print(f\"Mean Training RMSE: {cv_results['train_rmse'].mean():.4f}\")\n",
    "print(f\"Mean Validation RMSE: {cv_results['test_rmse'].mean():.4f}\")\n"
   ]
  },
  {
   "cell_type": "markdown",
   "metadata": {},
   "source": [
    "The model is overfitting. The Training RMSE is much lower than the validation RMSE"
   ]
  },
  {
   "cell_type": "markdown",
   "metadata": {},
   "source": [
    "### Improving Cross-Validation with GridSearchCV\n",
    "\n",
    "To enhance the perfomance of the Singular Value Decomposition (SVD) model, GridSearchCV is used to systematically tune hypeparameters. Instead of manually selecting values, GridSearchCV tests multiple combinations and finds the optimal parameters that minimize RMSE."
   ]
  },
  {
   "cell_type": "code",
   "execution_count": 70,
   "metadata": {},
   "outputs": [
    {
     "name": "stdout",
     "output_type": "stream",
     "text": [
      "Best Parameters: {'n_factors': 50, 'n_epochs': 10, 'lr_all': 0.01, 'reg_all': 0.1}\n"
     ]
    }
   ],
   "source": [
    "# Define the parameter grid for hyperparameter tuning\n",
    "param_grid = {\n",
    "    'n_factors': [50], # [50, 100, 150],\n",
    "    'n_epochs': [10], #[10, 20, 30],\n",
    "    'lr_all': [0.01], #[0.002, 0.005, 0.01],\n",
    "    'reg_all': [0.1] #[0.02, 0.05, 0.1]\n",
    "}\n",
    "\n",
    "# Perform Grid Search \n",
    "grid_search = GridSearchCV(SVD, param_grid, measures=['RMSE', 'MAE'],  return_train_measures=True, n_jobs=-1, cv=5)\n",
    "\n",
    "# Fit on the data\n",
    "grid_search.fit(data)\n",
    "\n",
    "# Get the best parameters\n",
    "best_params = grid_search.best_params['rmse']\n",
    "print(f\"Best Parameters: {best_params}\")\n",
    "\n"
   ]
  },
  {
   "cell_type": "code",
   "execution_count": 71,
   "metadata": {},
   "outputs": [
    {
     "name": "stdout",
     "output_type": "stream",
     "text": [
      "Evaluating RMSE, MAE of algorithm SVD on 5 split(s).\n",
      "\n",
      "                  Fold 1  Fold 2  Fold 3  Fold 4  Fold 5  Mean    Std     \n",
      "RMSE (testset)    0.8707  0.8651  0.8691  0.8737  0.8798  0.8717  0.0049  \n",
      "MAE (testset)     0.6700  0.6660  0.6706  0.6724  0.6745  0.6707  0.0028  \n",
      "RMSE (trainset)   0.8060  0.8069  0.8064  0.8047  0.8025  0.8053  0.0016  \n",
      "MAE (trainset)    0.6224  0.6230  0.6223  0.6214  0.6196  0.6217  0.0012  \n",
      "Fit time          2.59    2.23    2.63    2.73    2.90    2.62    0.22    \n",
      "Test time         0.21    0.17    0.25    0.25    0.35    0.25    0.06    \n",
      "Average Test RMSE: 0.8716869335459435\n",
      "Mean Training RMSE: 0.8053\n",
      "Mean Validation RMSE: 0.8717\n"
     ]
    }
   ],
   "source": [
    "# Train the best model\n",
    "optimized_svd = SVD(n_factors=best_params['n_factors'],\n",
    "                     n_epochs=best_params['n_epochs'],\n",
    "                     lr_all=best_params['lr_all'],\n",
    "                     reg_all=best_params['reg_all'])\n",
    "\n",
    "cv_results = cross_validate(optimized_svd, data, measures=['RMSE', 'MAE'], return_train_measures=True, cv=5, verbose=True)\n",
    "print(f\"Average Test RMSE: {cv_results['test_rmse'].mean()}\")\n",
    "\n",
    "\n",
    "# Print the mean RMSE for training and test sets\n",
    "print(f\"Mean Training RMSE: {cv_results['train_rmse'].mean():.4f}\")\n",
    "print(f\"Mean Validation RMSE: {cv_results['test_rmse'].mean():.4f}\")"
   ]
  },
  {
   "cell_type": "markdown",
   "metadata": {},
   "source": [
    "GridSearchCV helps automate hyperparameter tuning, ensuring that the model achieves the best bias-variance tradeoff. By optimizing regularization, learning rate, and latent factors overfitting is reduced."
   ]
  },
  {
   "cell_type": "code",
   "execution_count": 39,
   "metadata": {},
   "outputs": [
    {
     "name": "stdout",
     "output_type": "stream",
     "text": [
      "Top 5 Movie Recommendations:\n",
      "     movieId                                              title\n",
      "277      318                   Shawshank Redemption, The (1994)\n",
      "585      720  Wallace & Gromit: The Best of Aardman Animatio...\n",
      "596      741         Ghost in the Shell (Kôkaku kidôtai) (1995)\n",
      "731      951                             His Girl Friday (1940)\n",
      "868     1148        Wallace & Gromit: The Wrong Trousers (1993)\n"
     ]
    }
   ],
   "source": [
    "def get_top_5_recommendations(user_id, model, movies_df, ratings_df, n=5):\n",
    "    # Get a list of all movie IDs\n",
    "    all_movie_ids = movies_df['movieId'].unique()\n",
    "    \n",
    "    # Get movies the user has already rated\n",
    "    rated_movies = ratings_df[ratings_df['userId'] == user_id]['movieId'].values\n",
    "    \n",
    "    # Get only movies the user has not rated\n",
    "    unseen_movies = [movie for movie in all_movie_ids if movie not in rated_movies]\n",
    "   \n",
    "    #Predict ratings for unseen movies   \n",
    "    predictions = [model.predict(user_id, movie_id) for movie_id in unseen_movies]\n",
    "    \n",
    "    # Sort predictions by estimated rating\n",
    "    top_n_predictions = sorted(predictions, key=lambda x: x.est, reverse=True)[:n]\n",
    "    \n",
    "    # Get movie titles for the recommended movie ids\n",
    "    recommended_movie_ids = [pred.iid for pred in top_n_predictions]\n",
    "    recommended_movies = movies_df[movies_df['movieId'].isin(recommended_movie_ids)]\n",
    "    \n",
    "    return recommended_movies[['movieId', 'title']]\n",
    "\n",
    "# Get top 5 recommendations for user 1\n",
    "user_id = 1\n",
    "recommendations = get_top_5_recommendations(user_id, optimized_svd, movies_df, ratings_df, n=5)\n",
    "print(\"Top 5 Movie Recommendations:\")\n",
    "print(recommendations)"
   ]
  },
  {
   "cell_type": "markdown",
   "metadata": {},
   "source": [
    "## Hybrid Recommendation System\n",
    "\n",
    "Hybrid recommendation system with cold start detection"
   ]
  },
  {
   "cell_type": "code",
   "execution_count": null,
   "metadata": {},
   "outputs": [
    {
     "name": "stdout",
     "output_type": "stream",
     "text": [
      "Cold Start User Detected (User 150) → Using Content-Based Filtering\n",
      "Top 5 Movie Recommendations:\n",
      "     movieId                      title\n",
      "91       103       Unforgettable (1996)\n",
      "274      315     Specialist, The (1994)\n",
      "418      480       Jurassic Park (1993)\n",
      "467      534         Shadowlands (1993)\n",
      "690      908  North by Northwest (1959)\n"
     ]
    }
   ],
   "source": [
    "# Precompute TF-IDF for genres\n",
    "tfidf = TfidfVectorizer(stop_words='english')\n",
    "movies_df['genres'] = movies_df['genres'].fillna('')  \n",
    "genre_matrix = tfidf.fit_transform(movies_df['genres'])\n",
    "\n",
    "# Precompute similarity matrix\n",
    "cosine_sim = cosine_similarity(genre_matrix, genre_matrix) \n",
    "\n",
    "# Movie ID to index mapping\n",
    "movie_indices = pd.Series(movies_df.index, index=movies_df['movieId']).drop_duplicates()\n",
    "\n",
    "\n",
    "def recommend_movies(user_id, model, movies_df, ratings_df, n=5):\n",
    "    \"\"\"\n",
    "    Hybrid recommendation function that dynamically decides between content-based and collaborative filtering.\n",
    "    \n",
    "    Parameters:\n",
    "        - user_id: The user ID for whom recommendations are generated.\n",
    "        - model: Trained collaborative filtering model (SVD).\n",
    "        - movies_df: DataFrame containing movie details.\n",
    "        - ratings_df: DataFrame containing user ratings.\n",
    "        - n: Number of recommendations to generate.\n",
    "    \n",
    "    Returns:\n",
    "        - DataFrame with top `n` recommended movies.\n",
    "    \"\"\"\n",
    "    \n",
    "    # Calculate the dynamic threshold as the median number of ratings per user\n",
    "    dynamic_threshold = ratings_df.groupby(\"userId\")[\"movieId\"].count().median()\n",
    "\n",
    "    # Step 1: Check if the user has rated enough movies\n",
    "    user_ratings = ratings_df[ratings_df[\"userId\"] == user_id]\n",
    "    \n",
    "    if len(user_ratings) < dynamic_threshold:\n",
    "        print(f\"Cold Start User Detected (User {user_id}) → Using Content-Based Filtering\")\n",
    "        \n",
    "        # Compute TF-IDF matrix for movie genres\n",
    "        tfidf = TfidfVectorizer(stop_words=\"english\")\n",
    "        tfidf_matrix = tfidf.fit_transform(movies_df[\"genres\"].fillna(\"\"))\n",
    "        \n",
    "        # Compute cosine similarity between movies\n",
    "        cosine_sim = cosine_similarity(tfidf_matrix, tfidf_matrix)\n",
    "        \n",
    "        # Get movies the user has rated\n",
    "        rated_movies = user_ratings.merge(movies_df, on=\"movieId\")[[\"movieId\", \"title\"]]\n",
    "        \n",
    "        # Find similar movies\n",
    "        similar_movies = set()\n",
    "        for movie_id in rated_movies[\"movieId\"]:\n",
    "            idx = movies_df[movies_df[\"movieId\"] == movie_id].index[0]\n",
    "            similar_indices = cosine_sim[idx].argsort()[-(n+1):-1]  # Get top N similar movies\n",
    "            similar_movies.update(movies_df.iloc[similar_indices][\"movieId\"].values)\n",
    "        \n",
    "        # Remove movies the user has already rated\n",
    "        similar_movies = list(set(similar_movies) - set(user_ratings[\"movieId\"]))\n",
    "        \n",
    "        # Get movie titles for recommendations\n",
    "        recommended_movies = movies_df[movies_df[\"movieId\"].isin(similar_movies)].head(n)\n",
    "    \n",
    "    else:\n",
    "        print(f\"User {user_id} has rated enough movies → Using Collaborative Filtering\")\n",
    "        \n",
    "        # Step 2: Collaborative Filtering Recommendations\n",
    "        all_movie_ids = set(movies_df[\"movieId\"].unique())  # Faster lookup with sets\n",
    "        rated_movies = set(user_ratings[\"movieId\"].values)\n",
    "        unseen_movies = list(all_movie_ids - rated_movies)  # Get only unseen movies\n",
    "        \n",
    "        # Predict ratings for unseen movies\n",
    "        predictions = [model.predict(user_id, movie_id) for movie_id in unseen_movies]\n",
    "        \n",
    "        # Sort predictions by estimated rating\n",
    "        top_n_predictions = sorted(predictions, key=lambda x: x.est, reverse=True)[:n]\n",
    "        \n",
    "        # Get recommended movie titles\n",
    "        recommended_movie_ids = [pred.iid for pred in top_n_predictions]\n",
    "        recommended_movies = movies_df[movies_df[\"movieId\"].isin(recommended_movie_ids)]\n",
    "    \n",
    "    return recommended_movies[[\"movieId\", \"title\"]]\n",
    "\n",
    "\n",
    "# Example usage:\n",
    "user_id = 150\n",
    "recommendations = recommend_movies(user_id, optimized_svd, movies_df, ratings_df, n=5)\n",
    "print(\"Top 5 Movie Recommendations:\")\n",
    "print(recommendations)\n"
   ]
  },
  {
   "cell_type": "code",
   "execution_count": null,
   "metadata": {},
   "outputs": [
    {
     "name": "stdout",
     "output_type": "stream",
     "text": [
      "Cold Start User Detected (User 150) → Using Content-Based Filtering\n",
      "Top 5 Hybrid Movie Recommendations:\n",
      "     movieId                    title\n",
      "86        97  Hate (Haine, La) (1995)\n",
      "88       100         City Hall (1996)\n",
      "91       103     Unforgettable (1996)\n",
      "274      315   Specialist, The (1994)\n",
      "418      480     Jurassic Park (1993)\n"
     ]
    }
   ],
   "source": [
    "from sklearn.feature_extraction.text import TfidfVectorizer\n",
    "from sklearn.metrics.pairwise import cosine_similarity\n",
    "import numpy as np\n",
    "import pandas as pd\n",
    "\n",
    "def hybrid_recommendation(user_id, model, movies_df, ratings_df, n=5, alpha=0.5):\n",
    "    \"\"\"\n",
    "    Hybrid recommendation system combining Collaborative Filtering (CF) and Content-Based Filtering (CBF).\n",
    "    \n",
    "    Parameters:\n",
    "        - user_id: User ID for whom recommendations are generated.\n",
    "        - model: Trained collaborative filtering model (SVD).\n",
    "        - movies_df: DataFrame containing movie details.\n",
    "        - ratings_df: DataFrame containing user ratings.\n",
    "        - n: Number of recommendations to generate.\n",
    "        - alpha: Weight factor (0.0 to 1.0) balancing CF & CBF.\n",
    "    \n",
    "    Returns:\n",
    "        - DataFrame with top `n` recommended movies.\n",
    "    \"\"\"\n",
    "\n",
    "    # Calculate dynamic threshold (median number of ratings per user)\n",
    "    dynamic_threshold = ratings_df.groupby(\"userId\")[\"movieId\"].count().median()\n",
    "\n",
    "    # Get user ratings\n",
    "    user_ratings = ratings_df[ratings_df[\"userId\"] == user_id]\n",
    "\n",
    "    if len(user_ratings) < dynamic_threshold:\n",
    "        print(f\"Cold Start User Detected (User {user_id}) → Using Content-Based Filtering\")\n",
    "        \n",
    "        # Compute TF-IDF matrix for movie genres\n",
    "        tfidf = TfidfVectorizer(stop_words=\"english\")\n",
    "        tfidf_matrix = tfidf.fit_transform(movies_df[\"genres\"].fillna(\"\"))\n",
    "\n",
    "        # Compute cosine similarity between movies\n",
    "        cosine_sim = cosine_similarity(tfidf_matrix, tfidf_matrix)\n",
    "\n",
    "        # Get movies the user has rated\n",
    "        rated_movies = user_ratings.merge(movies_df, on=\"movieId\")[[\"movieId\", \"title\"]]\n",
    "        \n",
    "        # Find similar movies based on genre similarity\n",
    "        similar_movies = set()\n",
    "        for movie_id in rated_movies[\"movieId\"]:\n",
    "            idx = movies_df[movies_df[\"movieId\"] == movie_id].index[0]\n",
    "            similar_indices = cosine_sim[idx].argsort()[-(n+5):-1]  # Get top N+5 similar movies\n",
    "            similar_movies.update(movies_df.iloc[similar_indices][\"movieId\"].values)\n",
    "\n",
    "        # Remove movies the user has already rated\n",
    "        similar_movies = list(set(similar_movies) - set(user_ratings[\"movieId\"]))\n",
    "\n",
    "        # Get movie titles for recommendations\n",
    "        cbf_movies = movies_df[movies_df[\"movieId\"].isin(similar_movies)].head(n)\n",
    "        \n",
    "        return cbf_movies[[\"movieId\", \"title\"]]\n",
    "\n",
    "    else:\n",
    "        print(f\"User {user_id} has rated enough movies → Using Hybrid Recommendations\")\n",
    "\n",
    "        # Step 1: Collaborative Filtering Predictions\n",
    "        all_movie_ids = set(movies_df[\"movieId\"].unique())  \n",
    "        rated_movies = set(user_ratings[\"movieId\"].values)\n",
    "        unseen_movies = list(all_movie_ids - rated_movies)  \n",
    "\n",
    "        predictions = [model.predict(user_id, movie_id) for movie_id in unseen_movies]\n",
    "        cf_scores = {pred.iid: pred.est for pred in predictions}\n",
    "\n",
    "        # Step 2: Content-Based Filtering Scores\n",
    "        rated_movie_ids = user_ratings[\"movieId\"].values\n",
    "        similarity_scores = {}\n",
    "\n",
    "        for movie_id in rated_movie_ids:\n",
    "            if movie_id in movies_df[\"movieId\"].values:\n",
    "                idx = movies_df[movies_df[\"movieId\"] == movie_id].index[0]\n",
    "                similar_indices = cosine_sim[idx].argsort()[-(n+5):-1]  \n",
    "                for sim_idx in similar_indices:\n",
    "                    sim_movie_id = movies_df.iloc[sim_idx][\"movieId\"]\n",
    "                    similarity_scores[sim_movie_id] = similarity_scores.get(sim_movie_id, 0) + cosine_sim[idx, sim_idx]\n",
    "\n",
    "        # Normalize similarity scores\n",
    "        max_sim_score = max(similarity_scores.values(), default=1)\n",
    "        cbf_scores = {k: v / max_sim_score * 5 for k, v in similarity_scores.items()}  # Scale to 5\n",
    "\n",
    "        # Step 3: Merge CF & CBF Scores Using Weighted Hybrid Score\n",
    "        hybrid_scores = {}\n",
    "        for movie_id in unseen_movies:\n",
    "            cf_score = cf_scores.get(movie_id, 0)\n",
    "            cbf_score = cbf_scores.get(movie_id, 0)\n",
    "            hybrid_scores[movie_id] = alpha * cf_score + (1 - alpha) * cbf_score\n",
    "\n",
    "        # Step 4: Get Top N Recommendations\n",
    "        top_movie_ids = sorted(hybrid_scores, key=hybrid_scores.get, reverse=True)[:n]\n",
    "        recommended_movies = movies_df[movies_df[\"movieId\"].isin(top_movie_ids)]\n",
    "\n",
    "        return recommended_movies[[\"movieId\", \"title\"]]\n",
    "\n",
    "# Example usage:\n",
    "user_id = 150\n",
    "recommendations = hybrid_recommendation(user_id, optimized_svd, movies_df, ratings_df, n=5, alpha=0.7)\n",
    "print(\"Top 5 Hybrid Movie Recommendations:\")\n",
    "print(recommendations)\n"
   ]
  },
  {
   "cell_type": "code",
   "execution_count": 48,
   "metadata": {},
   "outputs": [
    {
     "name": "stdout",
     "output_type": "stream",
     "text": [
      "Cold Start User Detected (User 150) → Using Content-Based Filtering\n",
      "Top 5 Hybrid Movie Recommendations:\n",
      "     movieId                    title\n",
      "86        97  Hate (Haine, La) (1995)\n",
      "88       100         City Hall (1996)\n",
      "91       103     Unforgettable (1996)\n",
      "274      315   Specialist, The (1994)\n",
      "418      480     Jurassic Park (1993)\n"
     ]
    }
   ],
   "source": [
    "from sklearn.feature_extraction.text import TfidfVectorizer\n",
    "from sklearn.metrics.pairwise import cosine_similarity\n",
    "import numpy as np\n",
    "import pandas as pd\n",
    "\n",
    "def hybrid_recommendation(user_id, model, movies_df, ratings_df, n=5, alpha=0.5, verbose=False):\n",
    "    \"\"\"\n",
    "    Hybrid recommendation system combining Collaborative Filtering (CF) and Content-Based Filtering (CBF).\n",
    "    \"\"\"\n",
    "    # Calculate dynamic threshold (median number of ratings per user)\n",
    "    dynamic_threshold = ratings_df.groupby(\"userId\")[\"movieId\"].count().median()\n",
    "\n",
    "    # Compute TF-IDF matrix for movie genres (Move this outside conditional blocks)\n",
    "    tfidf = TfidfVectorizer(stop_words=\"english\")\n",
    "    tfidf_matrix = tfidf.fit_transform(movies_df[\"genres\"].fillna(\"\"))\n",
    "    cosine_sim = cosine_similarity(tfidf_matrix, tfidf_matrix)  # Always compute this\n",
    "\n",
    "    # Get user ratings\n",
    "    user_ratings = ratings_df[ratings_df[\"userId\"] == user_id]\n",
    "\n",
    "    if len(user_ratings) < dynamic_threshold:\n",
    "        print(f\"Cold Start User Detected (User {user_id}) → Using Content-Based Filtering\")\n",
    "\n",
    "        # Get movies the user has rated\n",
    "        rated_movies = user_ratings.merge(movies_df, on=\"movieId\")[[\"movieId\", \"title\"]]\n",
    "        \n",
    "        # Find similar movies based on genre similarity\n",
    "        similar_movies = set()\n",
    "        for movie_id in rated_movies[\"movieId\"]:\n",
    "            idx = movies_df[movies_df[\"movieId\"] == movie_id].index[0]\n",
    "            similar_indices = cosine_sim[idx].argsort()[-(n+5):-1]\n",
    "            similar_movies.update(movies_df.iloc[similar_indices][\"movieId\"].values)\n",
    "\n",
    "        # Remove movies the user has already rated\n",
    "        similar_movies = list(set(similar_movies) - set(user_ratings[\"movieId\"]))\n",
    "\n",
    "        # Get movie titles for recommendations\n",
    "        cbf_movies = movies_df[movies_df[\"movieId\"].isin(similar_movies)].head(n)\n",
    "        \n",
    "        return cbf_movies[[\"movieId\", \"title\"]]\n",
    "\n",
    "    else:\n",
    "        print(f\"User {user_id} has rated enough movies → Using Hybrid Recommendations\")\n",
    "\n",
    "        # Step 1: Collaborative Filtering Predictions\n",
    "        all_movie_ids = set(movies_df[\"movieId\"].unique())  \n",
    "        rated_movies = set(user_ratings[\"movieId\"].values)\n",
    "        unseen_movies = list(all_movie_ids - rated_movies)  \n",
    "\n",
    "        predictions = [model.predict(user_id, movie_id) for movie_id in unseen_movies]\n",
    "        cf_scores = {pred.iid: pred.est for pred in predictions}\n",
    "\n",
    "        # Step 2: Content-Based Filtering Scores\n",
    "        rated_movie_ids = user_ratings[\"movieId\"].values\n",
    "        similarity_scores = {}\n",
    "\n",
    "        for movie_id in rated_movie_ids:\n",
    "            idx = movies_df[movies_df[\"movieId\"] == movie_id].index[0]\n",
    "            similar_indices = cosine_sim[idx].argsort()[-(n+5):-1]  \n",
    "            for sim_idx in similar_indices:\n",
    "                sim_movie_id = movies_df.iloc[sim_idx][\"movieId\"]\n",
    "                similarity_scores[sim_movie_id] = similarity_scores.get(sim_movie_id, 0) + cosine_sim[idx, sim_idx]\n",
    "\n",
    "        # Normalize similarity scores\n",
    "        max_sim_score = max(similarity_scores.values(), default=1)\n",
    "        cbf_scores = {k: v / max_sim_score * 5 for k, v in similarity_scores.items()}  # Scale to 5\n",
    "\n",
    "        # Step 3: Merge CF & CBF Scores Using Weighted Hybrid Score\n",
    "        hybrid_scores = {}\n",
    "        for movie_id in unseen_movies:\n",
    "            cf_score = cf_scores.get(movie_id, 0)\n",
    "            cbf_score = cbf_scores.get(movie_id, 0)\n",
    "            hybrid_scores[movie_id] = alpha * cf_score + (1 - alpha) * cbf_score\n",
    "\n",
    "        # Step 4: Get Top N Recommendations\n",
    "        top_movie_ids = sorted(hybrid_scores, key=hybrid_scores.get, reverse=True)[:n]\n",
    "        recommended_movies = movies_df[movies_df[\"movieId\"].isin(top_movie_ids)]\n",
    "\n",
    "        return recommended_movies[[\"movieId\", \"title\"]]\n",
    "\n",
    "# Example usage:\n",
    "user_id = 150\n",
    "recommendations = hybrid_recommendation(user_id, optimized_svd, movies_df, ratings_df, n=5, alpha=0.7)\n",
    "print(\"Top 5 Hybrid Movie Recommendations:\")\n",
    "print(recommendations)\n"
   ]
  },
  {
   "cell_type": "code",
   "execution_count": null,
   "metadata": {},
   "outputs": [
    {
     "name": "stdout",
     "output_type": "stream",
     "text": [
      "User 1 has rated enough movies → Using Hybrid Recommendations\n",
      "Cold Start User Detected (User 532) → Using Content-Based Filtering\n",
      "User 323 has rated enough movies → Using Hybrid Recommendations\n",
      "User 233 has rated enough movies → Using Hybrid Recommendations\n",
      "User 434 has rated enough movies → Using Hybrid Recommendations\n",
      "Cold Start User Detected (User 442) → Using Content-Based Filtering\n",
      "Cold Start User Detected (User 399) → Using Content-Based Filtering\n",
      "User 198 has rated enough movies → Using Hybrid Recommendations\n",
      "User 143 has rated enough movies → Using Hybrid Recommendations\n",
      "Cold Start User Detected (User 578) → Using Content-Based Filtering\n",
      "Hybrid Model Coverage: 0.3901%\n"
     ]
    }
   ],
   "source": [
    "def compute_coverage(model, movies_df, ratings_df, user_ids, n=5, alpha=0.7):\n",
    "    \"\"\"\n",
    "    Computes catalog coverage of the recommendation system.\n",
    "    \n",
    "    Parameters:\n",
    "        - model: Trained collaborative filtering model.\n",
    "        - movies_df: DataFrame with movie details.\n",
    "        - ratings_df: DataFrame with user ratings.\n",
    "        - user_ids: List of user IDs to evaluate.\n",
    "        - n: Number of recommendations per user.\n",
    "        - alpha: Hybrid weighting factor.\n",
    "    \n",
    "    Returns:\n",
    "        - Coverage score (percentage of movies recommended at least once).\n",
    "    \"\"\"\n",
    "    recommended_movies = set()\n",
    "\n",
    "    for user_id in user_ids:\n",
    "        recommendations = hybrid_recommendation(user_id, model, movies_df, ratings_df, n=n, alpha=alpha)\n",
    "        recommended_movies.update(recommendations[\"movieId\"].values)\n",
    "\n",
    "    coverage = len(recommended_movies) / len(movies_df[\"movieId\"].unique())\n",
    "    return coverage\n",
    "\n",
    "# Compute coverage for 100 random users\n",
    "sample_users = np.random.choice(ratings_df[\"userId\"].unique(), size=100, replace=False)\n",
    "coverage_score = compute_coverage(optimized_svd, movies_df, ratings_df, sample_users, n=5, alpha=0.7)\n",
    "print(f\"Hybrid Model Coverage: {coverage_score:.4%}\")\n"
   ]
  },
  {
   "cell_type": "markdown",
   "metadata": {},
   "source": [
    "### How This Hybrid Recommendation System Works\n",
    "\n",
    "`Dynamic Thresholding for Cold Start Detection`\n",
    "\n",
    "The function dynamically detrmines a threshold for switching between Content-Based Filtering (CBF) and Collaborative Filtering (CF) by calculating the median number of ratings per user in the dataset. The median serves as an adaptive threshold, meaning the system does not rely on a manually set value that might not generelize well across different datasets. If a user has rated fewer movies than this threshold, they are considered a cold start user, and content-based recommendations are provided. Otherwise, collaborative filtering is used.\n",
    "\n",
    "`Cold Start Handling with Content-Based Filtering`\n",
    "\n",
    "For users with too few ratings, traditional CF methods cannot generate meaningful recommendations due to a lack of personal preference data. To address this, the function leverages TF-IDF (Term Frequency-Inverse Document Frequency) and Cosine Similarity to find movies similar to those the user has rated. TF-IDF transforms movie genres into numerical vectors, capturing the importance of each genre, while Cosine Similarity measures how closely related different movies are based on their genres. This ensures that even new users receive recommendations that align with their interests.\n",
    "\n",
    "`Collaborative Filtering (CF) for Engaged Users`\n",
    "\n",
    "Once a user has rated more movies than the threshold, Singular Value Decomposition (SVD) is used to generate recommendations. SVD is a powerful matrix factorization technique that learns hidden patterns in user-movie interactions. It predicts how much a user will like unseen movies based on past ratings. This method excels at capturing complex user preferences and identifying similarities between users and movies beyond just genres.\n",
    "\n",
    "`Scalability and Adaptability`\n",
    "\n",
    "A key advantage of this approach is its automatic adaptability as new users join. Because the threshold is dynamically calculated from the dataset (instead of being hardcoded), the system remains robust and scalable without requiring manual tuning. As more users provide ratings, the median naturally shifts, ensuring that the recommendation method is always optimized for the current dataset size and distribution. This makes it a flexible solution suitable for real-world applications where user activity varies over time. "
   ]
  },
  {
   "cell_type": "markdown",
   "metadata": {},
   "source": [
    "## Limitations and Recommendations\n",
    "- The model relies heavily on genre metadata for content-based filtering. \n",
    "- Expanding features to include cast, director, and user reviews could improve recommendations.\n",
    "- Cold start handling still has room for improvement, as popularity-based recommendations may not always align with a user's actual preferences.\n",
    "- Scaling to larger datasets would require distributed computing techniques (e.g., Apache Spark) to handle increased data volume efficiently."
   ]
  },
  {
   "cell_type": "markdown",
   "metadata": {},
   "source": []
  }
 ],
 "metadata": {
  "kernelspec": {
   "display_name": "Python (learn-env)",
   "language": "python",
   "name": "learn-env"
  },
  "language_info": {
   "codemirror_mode": {
    "name": "ipython",
    "version": 3
   },
   "file_extension": ".py",
   "mimetype": "text/x-python",
   "name": "python",
   "nbconvert_exporter": "python",
   "pygments_lexer": "ipython3",
   "version": "3.8.5"
  }
 },
 "nbformat": 4,
 "nbformat_minor": 2
}
